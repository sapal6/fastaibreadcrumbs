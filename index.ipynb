{
 "cells": [
  {
   "cell_type": "code",
   "execution_count": null,
   "metadata": {},
   "outputs": [],
   "source": [
    "#|hide\n",
    "from fastaibreadcrumbs.core import *"
   ]
  },
  {
   "cell_type": "markdown",
   "metadata": {},
   "source": [
    "# Fastaibreadcrumbs\n",
    "\n",
    "> Breadcrumbs for fastai users."
   ]
  },
  {
   "cell_type": "markdown",
   "metadata": {},
   "source": [
    "## Install"
   ]
  },
  {
   "cell_type": "markdown",
   "metadata": {},
   "source": [
    "`pip install fastaibreadcrumbs`"
   ]
  },
  {
   "cell_type": "markdown",
   "metadata": {},
   "source": [
    "## How to use"
   ]
  },
  {
   "cell_type": "markdown",
   "metadata": {},
   "source": [
    "Just import \"fastaibreadcrumbs\" and get started.\n",
    "\n",
    "Some tiny convience functions are available which are handy while working on projects based on [fastkaggle](https://fastai.github.io/fastkaggle/) and/or [fastai](https://docs.fast.ai/). \n",
    "\n",
    "A couple of examples are `setup_data` to setup kaggle data on your local machine and `Crappifier` to create crappified version of image data. Explore the \"fastaibreadcrumbs.core\" page for more functions."
   ]
  }
 ],
 "metadata": {
  "kernelspec": {
   "display_name": "Python 3.9.7 ('base')",
   "language": "python",
   "name": "python3"
  }
 },
 "nbformat": 4,
 "nbformat_minor": 4
}
